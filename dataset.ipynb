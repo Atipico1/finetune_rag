{
 "cells": [
  {
   "cell_type": "code",
   "execution_count": 1,
   "metadata": {},
   "outputs": [
    {
     "name": "stderr",
     "output_type": "stream",
     "text": [
      "/data/seongilpark/conda_envs/ft/lib/python3.10/site-packages/tqdm/auto.py:21: TqdmWarning: IProgress not found. Please update jupyter and ipywidgets. See https://ipywidgets.readthedocs.io/en/stable/user_install.html\n",
      "  from .autonotebook import tqdm as notebook_tqdm\n"
     ]
    }
   ],
   "source": [
    "from datasets import load_dataset\n",
    "import pandas as pd\n",
    "from transformers import AutoTokenizer, AutoModelForCausalLM"
   ]
  },
  {
   "cell_type": "code",
   "execution_count": null,
   "metadata": {},
   "outputs": [
    {
     "name": "stderr",
     "output_type": "stream",
     "text": [
      "Downloading readme: 100%|██████████| 639/639 [00:00<00:00, 2.10MB/s]\n",
      "Downloading data: 100%|██████████| 179M/179M [00:49<00:00, 3.59MB/s] \n",
      "Downloading data: 100%|██████████| 178M/178M [00:40<00:00, 4.38MB/s] \n",
      "Downloading data: 100%|██████████| 46.3M/46.3M [00:09<00:00, 4.88MB/s]\n",
      "Generating train split: 100%|██████████| 87622/87622 [00:01<00:00, 58721.93 examples/s]\n",
      "Generating test split: 100%|██████████| 11313/11313 [00:00<00:00, 58860.87 examples/s]\n"
     ]
    },
    {
     "data": {
      "text/plain": [
       "DatasetDict({\n",
       "    train: Dataset({\n",
       "        features: ['question', 'answers', 'ctxs'],\n",
       "        num_rows: 87622\n",
       "    })\n",
       "    test: Dataset({\n",
       "        features: ['question', 'answers', 'ctxs'],\n",
       "        num_rows: 11313\n",
       "    })\n",
       "})"
      ]
     },
     "execution_count": 2,
     "metadata": {},
     "output_type": "execute_result"
    }
   ],
   "source": [
    "load_dataset(\"Seongill/trivia\")"
   ]
  },
  {
   "cell_type": "code",
   "execution_count": 3,
   "metadata": {},
   "outputs": [
    {
     "name": "stderr",
     "output_type": "stream",
     "text": [
      "Downloading readme: 100%|██████████| 638/638 [00:00<00:00, 2.94MB/s]\n",
      "Downloading data: 100%|██████████| 168M/168M [00:38<00:00, 4.37MB/s] \n",
      "Downloading data: 100%|██████████| 168M/168M [00:32<00:00, 5.24MB/s] \n",
      "Downloading data: 100%|██████████| 13.8M/13.8M [00:02<00:00, 6.49MB/s]\n",
      "Generating train split: 100%|██████████| 87925/87925 [00:01<00:00, 60877.23 examples/s]\n",
      "Generating test split: 100%|██████████| 3610/3610 [00:00<00:00, 58019.17 examples/s]\n"
     ]
    },
    {
     "data": {
      "text/plain": [
       "DatasetDict({\n",
       "    train: Dataset({\n",
       "        features: ['question', 'answers', 'ctxs'],\n",
       "        num_rows: 87925\n",
       "    })\n",
       "    test: Dataset({\n",
       "        features: ['question', 'answers', 'ctxs'],\n",
       "        num_rows: 3610\n",
       "    })\n",
       "})"
      ]
     },
     "execution_count": 3,
     "metadata": {},
     "output_type": "execute_result"
    }
   ],
   "source": [
    "load_dataset(\"Seongill/nq\")"
   ]
  },
  {
   "cell_type": "code",
   "execution_count": 2,
   "metadata": {},
   "outputs": [
    {
     "data": {
      "text/plain": [
       "True"
      ]
     },
     "execution_count": 2,
     "metadata": {},
     "output_type": "execute_result"
    }
   ],
   "source": []
  },
  {
   "cell_type": "code",
   "execution_count": 2,
   "metadata": {},
   "outputs": [
    {
     "name": "stderr",
     "output_type": "stream",
     "text": [
      "tokenizer_config.json: 100%|██████████| 967/967 [00:00<00:00, 3.73MB/s]\n",
      "tokenizer.model: 100%|██████████| 493k/493k [00:00<00:00, 17.4MB/s]\n",
      "tokenizer.json: 100%|██████████| 1.80M/1.80M [00:01<00:00, 1.79MB/s]\n",
      "special_tokens_map.json: 100%|██████████| 72.0/72.0 [00:00<00:00, 417kB/s]\n",
      "config.json: 100%|██████████| 571/571 [00:00<00:00, 1.23MB/s]\n",
      "model.safetensors.index.json: 100%|██████████| 25.1k/25.1k [00:00<00:00, 43.2MB/s]\n",
      "model-00001-of-00002.safetensors: 100%|██████████| 9.94G/9.94G [14:15<00:00, 11.6MB/s]\n",
      "model-00002-of-00002.safetensors: 100%|██████████| 4.54G/4.54G [06:31<00:00, 11.6MB/s]\n",
      "Downloading shards: 100%|██████████| 2/2 [20:47<00:00, 623.60s/it]\n",
      "Loading checkpoint shards: 100%|██████████| 2/2 [00:02<00:00,  1.05s/it]\n",
      "generation_config.json: 100%|██████████| 116/116 [00:00<00:00, 557kB/s]\n"
     ]
    }
   ],
   "source": [
    "# Load model directly\n",
    "# Load model directly\n",
    "from transformers import AutoTokenizer, AutoModelForCausalLM\n",
    "\n",
    "tokenizer = AutoTokenizer.from_pretrained(\"mistralai/Mistral-7B-v0.1\")\n",
    "model = AutoModelForCausalLM.from_pretrained(\"mistralai/Mistral-7B-v0.1\")"
   ]
  },
  {
   "cell_type": "code",
   "execution_count": 3,
   "metadata": {},
   "outputs": [
    {
     "data": {
      "text/plain": [
       "MistralForCausalLM(\n",
       "  (model): MistralModel(\n",
       "    (embed_tokens): Embedding(32000, 4096)\n",
       "    (layers): ModuleList(\n",
       "      (0-31): 32 x MistralDecoderLayer(\n",
       "        (self_attn): MistralAttention(\n",
       "          (q_proj): Linear(in_features=4096, out_features=4096, bias=False)\n",
       "          (k_proj): Linear(in_features=4096, out_features=1024, bias=False)\n",
       "          (v_proj): Linear(in_features=4096, out_features=1024, bias=False)\n",
       "          (o_proj): Linear(in_features=4096, out_features=4096, bias=False)\n",
       "          (rotary_emb): MistralRotaryEmbedding()\n",
       "        )\n",
       "        (mlp): MistralMLP(\n",
       "          (gate_proj): Linear(in_features=4096, out_features=14336, bias=False)\n",
       "          (up_proj): Linear(in_features=4096, out_features=14336, bias=False)\n",
       "          (down_proj): Linear(in_features=14336, out_features=4096, bias=False)\n",
       "          (act_fn): SiLU()\n",
       "        )\n",
       "        (input_layernorm): MistralRMSNorm()\n",
       "        (post_attention_layernorm): MistralRMSNorm()\n",
       "      )\n",
       "    )\n",
       "    (norm): MistralRMSNorm()\n",
       "  )\n",
       "  (lm_head): Linear(in_features=4096, out_features=32000, bias=False)\n",
       ")"
      ]
     },
     "execution_count": 3,
     "metadata": {},
     "output_type": "execute_result"
    }
   ],
   "source": [
    "model"
   ]
  },
  {
   "cell_type": "code",
   "execution_count": null,
   "metadata": {},
   "outputs": [],
   "source": []
  }
 ],
 "metadata": {
  "kernelspec": {
   "display_name": "finetune",
   "language": "python",
   "name": "python3"
  },
  "language_info": {
   "codemirror_mode": {
    "name": "ipython",
    "version": 3
   },
   "file_extension": ".py",
   "mimetype": "text/x-python",
   "name": "python",
   "nbconvert_exporter": "python",
   "pygments_lexer": "ipython3",
   "version": "3.10.13"
  }
 },
 "nbformat": 4,
 "nbformat_minor": 2
}
