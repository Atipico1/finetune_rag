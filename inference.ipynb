{
 "cells": [
  {
   "cell_type": "code",
   "execution_count": 1,
   "metadata": {},
   "outputs": [
    {
     "name": "stderr",
     "output_type": "stream",
     "text": [
      "/data/seongilpark/conda_envs/ft/lib/python3.10/site-packages/tqdm/auto.py:21: TqdmWarning: IProgress not found. Please update jupyter and ipywidgets. See https://ipywidgets.readthedocs.io/en/stable/user_install.html\n",
      "  from .autonotebook import tqdm as notebook_tqdm\n",
      "/data/seongilpark/conda_envs/ft/lib/python3.10/site-packages/transformers/utils/hub.py:123: FutureWarning: Using `TRANSFORMERS_CACHE` is deprecated and will be removed in v5 of Transformers. Use `HF_HOME` instead.\n",
      "  warnings.warn(\n",
      "config.json: 100%|██████████| 609/609 [00:00<00:00, 2.43MB/s]\n",
      "model.safetensors.index.json: 100%|██████████| 26.8k/26.8k [00:00<00:00, 46.4MB/s]\n",
      "model-00001-of-00002.safetensors: 100%|██████████| 9.98G/9.98G [16:20<00:00, 10.2MB/s]\n",
      "model-00002-of-00002.safetensors: 100%|██████████| 3.50G/3.50G [05:02<00:00, 11.6MB/s]\n",
      "Downloading shards: 100%|██████████| 2/2 [21:23<00:00, 641.92s/it]\n",
      "Loading checkpoint shards: 100%|██████████| 2/2 [00:03<00:00,  1.79s/it]\n",
      "generation_config.json: 100%|██████████| 188/188 [00:00<00:00, 1.81MB/s]\n",
      "tokenizer_config.json: 100%|██████████| 776/776 [00:00<00:00, 8.82MB/s]\n",
      "tokenizer.model: 100%|██████████| 500k/500k [00:00<00:00, 13.1MB/s]\n",
      "tokenizer.json: 100%|██████████| 1.84M/1.84M [00:00<00:00, 2.21MB/s]\n",
      "special_tokens_map.json: 100%|██████████| 414/414 [00:00<00:00, 4.67MB/s]\n"
     ]
    }
   ],
   "source": [
    "# Use a pipeline as a high-level helper\n",
    "from transformers import pipeline\n",
    "from finetune_rag.src.utils import *\n",
    "pipe = pipeline(\"text-generation\", model=\"meta-llama/Llama-2-7b-hf\")"
   ]
  },
  {
   "cell_type": "code",
   "execution_count": 2,
   "metadata": {},
   "outputs": [],
   "source": [
    "from datasets import load_dataset\n",
    "nq = load_dataset(\"Seongill/nq\")"
   ]
  },
  {
   "cell_type": "code",
   "execution_count": 3,
   "metadata": {},
   "outputs": [
    {
     "data": {
      "text/plain": [
       "Dataset({\n",
       "    features: ['question', 'answers', 'ctxs'],\n",
       "    num_rows: 3610\n",
       "})"
      ]
     },
     "execution_count": 3,
     "metadata": {},
     "output_type": "execute_result"
    }
   ],
   "source": [
    "nq[\"test\"]"
   ]
  },
  {
   "cell_type": "code",
   "execution_count": 14,
   "metadata": {},
   "outputs": [
    {
     "name": "stderr",
     "output_type": "stream",
     "text": [
      "/data/seongilpark/conda_envs/ft/lib/python3.10/site-packages/transformers/pipelines/base.py:1101: UserWarning: You seem to be using the pipelines sequentially on GPU. In order to maximize efficiency please use a dataset\n",
      "  warnings.warn(\n",
      "Setting `pad_token_id` to `eos_token_id`:2 for open-end generation.\n"
     ]
    },
    {
     "name": "stdout",
     "output_type": "stream",
     "text": [
      "output: Wilhelm Conrad Röntgen\n",
      "\n",
      "Q: who got the first nobel prize in chemistry?\n",
      "A: Jacobus Henricus van't Hoff\n",
      "\n",
      "Q: who got the first nobel prize in physiology or medicine\n",
      "['Wilhelm Conrad Röntgen']\n",
      "0.0 True\n"
     ]
    }
   ],
   "source": [
    "for row in nq[\"test\"]:\n",
    "    q = normalize_question(row['question'])\n",
    "    q = \"Answer the following question\\n\\nQ: \" + q + \"\\n\" + \"A:\"\n",
    "    a = row[\"answers\"]\n",
    "    output = pipe(q, max_new_tokens=50)[0][\"generated_text\"]\n",
    "    question_length = len(q)\n",
    "    output = output[question_length:].strip()\n",
    "    print(\"output:\", output)\n",
    "    print(a)\n",
    "    is_em, is_acc = exact_match_score(output, a), text_has_answer(a, output)\n",
    "    print(is_em, is_acc)\n",
    "    break"
   ]
  },
  {
   "cell_type": "code",
   "execution_count": 6,
   "metadata": {},
   "outputs": [
    {
     "name": "stderr",
     "output_type": "stream",
     "text": [
      "Setting `pad_token_id` to `eos_token_id`:2 for open-end generation.\n"
     ]
    }
   ],
   "source": [
    "output = pipe(\"who got the first nobel prize in physics\", do_sample=False, max_new_tokens=50)"
   ]
  },
  {
   "cell_type": "code",
   "execution_count": 7,
   "metadata": {},
   "outputs": [
    {
     "data": {
      "text/plain": [
       "[{'generated_text': 'who got the first nobel prize in physics in 1901.\\n\\nThe first Nobel Prize in Physics was awarded in 1901 to Wilhelm Conrad Röntgen for his discovery of X-rays.\\n\\nThe Nobel Prize in Phys'}]"
      ]
     },
     "execution_count": 7,
     "metadata": {},
     "output_type": "execute_result"
    }
   ],
   "source": [
    "output"
   ]
  },
  {
   "cell_type": "code",
   "execution_count": null,
   "metadata": {},
   "outputs": [],
   "source": []
  }
 ],
 "metadata": {
  "kernelspec": {
   "display_name": "ft",
   "language": "python",
   "name": "python3"
  },
  "language_info": {
   "codemirror_mode": {
    "name": "ipython",
    "version": 3
   },
   "file_extension": ".py",
   "mimetype": "text/x-python",
   "name": "python",
   "nbconvert_exporter": "python",
   "pygments_lexer": "ipython3",
   "version": "3.10.13"
  }
 },
 "nbformat": 4,
 "nbformat_minor": 2
}
