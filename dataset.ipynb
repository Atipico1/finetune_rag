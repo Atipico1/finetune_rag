{
 "cells": [
  {
   "cell_type": "code",
   "execution_count": 33,
   "metadata": {},
   "outputs": [],
   "source": [
    "from datasets import load_dataset\n",
    "import pandas as pd\n",
    "import json\n",
    "from datasets import Dataset, DatasetDict"
   ]
  },
  {
   "cell_type": "code",
   "execution_count": 32,
   "metadata": {},
   "outputs": [],
   "source": [
    "train = load_dataset(\"Atipico1/NQ-10k\", split=\"train\")\n",
    "test = load_dataset(\"Atipico1/NQ\", split=\"test\")"
   ]
  },
  {
   "cell_type": "code",
   "execution_count": 37,
   "metadata": {},
   "outputs": [
    {
     "name": "stderr",
     "output_type": "stream",
     "text": [
      "Downloading readme: 100%|██████████| 635/635 [00:00<00:00, 5.68MB/s]\n",
      "Downloading data: 100%|██████████| 19.8M/19.8M [00:02<00:00, 6.99MB/s]\n",
      "Downloading data: 100%|██████████| 7.19M/7.19M [00:01<00:00, 6.32MB/s]\n",
      "Generating train split: 100%|██████████| 10000/10000 [00:00<00:00, 107682.65 examples/s]\n",
      "Generating test split: 100%|██████████| 3610/3610 [00:00<00:00, 56912.43 examples/s]\n"
     ]
    }
   ],
   "source": [
    "dataset = load_dataset(\"Atipico1/NQ-10k\")"
   ]
  },
  {
   "cell_type": "code",
   "execution_count": 38,
   "metadata": {},
   "outputs": [
    {
     "data": {
      "text/plain": [
       "DatasetDict({\n",
       "    train: Dataset({\n",
       "        features: ['question', 'answers', 'ctxs'],\n",
       "        num_rows: 10000\n",
       "    })\n",
       "    test: Dataset({\n",
       "        features: ['question', 'answers', 'ctxs'],\n",
       "        num_rows: 3610\n",
       "    })\n",
       "})"
      ]
     },
     "execution_count": 38,
     "metadata": {},
     "output_type": "execute_result"
    }
   ],
   "source": [
    "dataset"
   ]
  },
  {
   "cell_type": "code",
   "execution_count": 35,
   "metadata": {},
   "outputs": [
    {
     "name": "stderr",
     "output_type": "stream",
     "text": [
      "Creating parquet from Arrow format: 100%|██████████| 10/10 [00:00<00:00, 48.95ba/s]\n",
      "Uploading the dataset shards: 100%|██████████| 1/1 [00:04<00:00,  4.91s/it]\n",
      "Creating parquet from Arrow format: 100%|██████████| 4/4 [00:00<00:00, 54.91ba/s]\n",
      "Uploading the dataset shards: 100%|██████████| 1/1 [00:02<00:00,  2.70s/it]\n",
      "README.md: 100%|██████████| 553/553 [00:00<00:00, 1.90MB/s]\n"
     ]
    },
    {
     "data": {
      "text/plain": [
       "CommitInfo(commit_url='https://huggingface.co/datasets/Atipico1/NQ-10k/commit/f8dc1d1786d9e352eeda939e3a56e142be3457ce', commit_message='Upload dataset', commit_description='', oid='f8dc1d1786d9e352eeda939e3a56e142be3457ce', pr_url=None, pr_revision=None, pr_num=None)"
      ]
     },
     "execution_count": 35,
     "metadata": {},
     "output_type": "execute_result"
    }
   ],
   "source": [
    "total = DatasetDict({'train': train, 'test': test})\n",
    "total.push_to_hub(\"Atipico1/NQ-10k\")"
   ]
  },
  {
   "cell_type": "code",
   "execution_count": 113,
   "metadata": {},
   "outputs": [
    {
     "data": {
      "text/html": [
       "<div>\n",
       "<style scoped>\n",
       "    .dataframe tbody tr th:only-of-type {\n",
       "        vertical-align: middle;\n",
       "    }\n",
       "\n",
       "    .dataframe tbody tr th {\n",
       "        vertical-align: top;\n",
       "    }\n",
       "\n",
       "    .dataframe thead th {\n",
       "        text-align: right;\n",
       "    }\n",
       "</style>\n",
       "<table border=\"1\" class=\"dataframe\">\n",
       "  <thead>\n",
       "    <tr style=\"text-align: right;\">\n",
       "      <th></th>\n",
       "      <th>id</th>\n",
       "      <th>subj</th>\n",
       "      <th>prop</th>\n",
       "      <th>obj</th>\n",
       "      <th>subj_id</th>\n",
       "      <th>prop_id</th>\n",
       "      <th>obj_id</th>\n",
       "      <th>s_aliases</th>\n",
       "      <th>o_aliases</th>\n",
       "      <th>s_uri</th>\n",
       "      <th>o_uri</th>\n",
       "      <th>s_wiki_title</th>\n",
       "      <th>o_wiki_title</th>\n",
       "      <th>s_pop</th>\n",
       "      <th>o_pop</th>\n",
       "      <th>question</th>\n",
       "      <th>possible_answers</th>\n",
       "    </tr>\n",
       "  </thead>\n",
       "  <tbody>\n",
       "    <tr>\n",
       "      <th>0</th>\n",
       "      <td>4222362</td>\n",
       "      <td>George Rankin</td>\n",
       "      <td>occupation</td>\n",
       "      <td>politician</td>\n",
       "      <td>1850297</td>\n",
       "      <td>22</td>\n",
       "      <td>2834605</td>\n",
       "      <td>[\"George James Rankin\"]</td>\n",
       "      <td>[\"political leader\",\"political figure\",\"polit....</td>\n",
       "      <td>http://www.wikidata.org/entity/Q5543720</td>\n",
       "      <td>http://www.wikidata.org/entity/Q82955</td>\n",
       "      <td>George Rankin</td>\n",
       "      <td>Politician</td>\n",
       "      <td>142</td>\n",
       "      <td>25692</td>\n",
       "      <td>What is George Rankin's occupation?</td>\n",
       "      <td>[\"politician\", \"political leader\", \"political ...</td>\n",
       "    </tr>\n",
       "  </tbody>\n",
       "</table>\n",
       "</div>"
      ],
      "text/plain": [
       "        id           subj        prop         obj  subj_id  prop_id   obj_id  \\\n",
       "0  4222362  George Rankin  occupation  politician  1850297       22  2834605   \n",
       "\n",
       "                 s_aliases                                          o_aliases  \\\n",
       "0  [\"George James Rankin\"]  [\"political leader\",\"political figure\",\"polit....   \n",
       "\n",
       "                                     s_uri  \\\n",
       "0  http://www.wikidata.org/entity/Q5543720   \n",
       "\n",
       "                                   o_uri   s_wiki_title o_wiki_title  s_pop  \\\n",
       "0  http://www.wikidata.org/entity/Q82955  George Rankin   Politician    142   \n",
       "\n",
       "   o_pop                             question  \\\n",
       "0  25692  What is George Rankin's occupation?   \n",
       "\n",
       "                                    possible_answers  \n",
       "0  [\"politician\", \"political leader\", \"political ...  "
      ]
     },
     "execution_count": 113,
     "metadata": {},
     "output_type": "execute_result"
    }
   ],
   "source": [
    "df = pd.read_csv('popQA.tsv', sep='\\t')\n",
    "df.head(1)"
   ]
  },
  {
   "cell_type": "code",
   "execution_count": 114,
   "metadata": {},
   "outputs": [],
   "source": [
    "with open(\"/home/seongilpark/finetune_rag/contriever_results.jsonl\", \"r\") as f:\n",
    "    results = [json.loads(line) for line in f.readlines()]"
   ]
  },
  {
   "cell_type": "code",
   "execution_count": 115,
   "metadata": {},
   "outputs": [
    {
     "data": {
      "text/html": [
       "<div>\n",
       "<style scoped>\n",
       "    .dataframe tbody tr th:only-of-type {\n",
       "        vertical-align: middle;\n",
       "    }\n",
       "\n",
       "    .dataframe tbody tr th {\n",
       "        vertical-align: top;\n",
       "    }\n",
       "\n",
       "    .dataframe thead th {\n",
       "        text-align: right;\n",
       "    }\n",
       "</style>\n",
       "<table border=\"1\" class=\"dataframe\">\n",
       "  <thead>\n",
       "    <tr style=\"text-align: right;\">\n",
       "      <th></th>\n",
       "      <th>id</th>\n",
       "      <th>question</th>\n",
       "      <th>answers</th>\n",
       "      <th>ctxs</th>\n",
       "    </tr>\n",
       "  </thead>\n",
       "  <tbody>\n",
       "    <tr>\n",
       "      <th>0</th>\n",
       "      <td>4222362</td>\n",
       "      <td>What is George Rankin's occupation?</td>\n",
       "      <td>[politician, political leader, political figur...</td>\n",
       "      <td>[{'id': '11701803', 'title': 'George Rankin', ...</td>\n",
       "    </tr>\n",
       "  </tbody>\n",
       "</table>\n",
       "</div>"
      ],
      "text/plain": [
       "        id                             question  \\\n",
       "0  4222362  What is George Rankin's occupation?   \n",
       "\n",
       "                                             answers  \\\n",
       "0  [politician, political leader, political figur...   \n",
       "\n",
       "                                                ctxs  \n",
       "0  [{'id': '11701803', 'title': 'George Rankin', ...  "
      ]
     },
     "execution_count": 115,
     "metadata": {},
     "output_type": "execute_result"
    }
   ],
   "source": [
    "pd.DataFrame(results).head(1)"
   ]
  },
  {
   "cell_type": "code",
   "execution_count": 116,
   "metadata": {},
   "outputs": [],
   "source": [
    "concat = pd.merge(df, pd.DataFrame(results), left_on='id', right_on='id').drop(columns=['question_y', \"answers\"]).rename(columns={'question_x': 'question', \"possible_answers\": \"answers\"})"
   ]
  },
  {
   "cell_type": "code",
   "execution_count": 127,
   "metadata": {},
   "outputs": [],
   "source": [
    "dataset = Dataset.from_pandas(concat)\n"
   ]
  },
  {
   "cell_type": "code",
   "execution_count": 128,
   "metadata": {},
   "outputs": [],
   "source": [
    "dataset = dataset.train_test_split(train_size=10_000, seed=42)"
   ]
  },
  {
   "cell_type": "code",
   "execution_count": 132,
   "metadata": {},
   "outputs": [
    {
     "name": "stdout",
     "output_type": "stream",
     "text": [
      "[{'hasanswer': False, 'id': '13995485', 'score': '1.6310263', 'text': 'Escape Artists Escape Artists Productions, LLC, commonly known as Escape Artists and distinct from Escape Artists, Inc. (pod caster), is an independently financed motion picture and television production company with a first look non-exclusive deal at Sony Pictures Entertainment, headed by partners Steve Tisch, Todd Black, and Jason Blumenthal. In 2001, Todd Black and Jason Blumenthal’s Black & Blu merged with the Steve Tisch Company to form Escape Artists. The first produced movie under the Escape Artists banner was \"A Knight\\'s Tale\", starring Heath Ledger in 2001. In the fall of 2005, Escape Artists released \"The Weather Man\", directed by', 'title': 'Escape Artists'}, {'hasanswer': False, 'id': '18332725', 'score': '1.6303782', 'text': 'Tommy Rettig, and Brian Keith. The announcers were Jack McCoy and Elliott Lewis. Escape (1950 TV series) Escape was a 30-minute live American dramatic anthology television series produced and directed for CBS by Wyllis Cooper. Narrated by William Conrad, the series was the television counterpart to a successful CBS Radio series of the same name (1947–54). There were a total of thirteen episodes airing on CBS from January 5, 1950 to March 30, 1950. According to \"The Complete Directory to Prime Time Network and Cable TV Shows 1946–Present\", the show\\'s stories \"depicted people attempting to deal with danger, the supernatural,', 'title': 'Escape (1950 TV series)'}, {'hasanswer': False, 'id': '19747413', 'score': '1.605309', 'text': \"for Best Documentary Series. Escape Or Die! Escape Or Die! was a Canadian reality television series produced by Farpoint Films that premiered in Canada in 2015 on OLN. Starring escape artist Dean Gunnarson, the series showed the behind-the-scenes preparations and escapes filmed in various locations around the world. The series featured Cary Tardi, Jeff Gunnarson, Ava Darrach-Gagnon, and John MacDonald as part of Dean's team that helped make the escapes happen and keep him safe. The show also featured appearances by magician and skeptic James Randi and Colombian magician Gustavo Lorgia. The series won a Golden Sheaf Award at the\", 'title': 'Escape Or Die!'}, {'hasanswer': False, 'id': '18332724', 'score': '1.6025474', 'text': 'Escape (1950 TV series) Escape was a 30-minute live American dramatic anthology television series produced and directed for CBS by Wyllis Cooper. Narrated by William Conrad, the series was the television counterpart to a successful CBS Radio series of the same name (1947–54). There were a total of thirteen episodes airing on CBS from January 5, 1950 to March 30, 1950. According to \"The Complete Directory to Prime Time Network and Cable TV Shows 1946–Present\", the show\\'s stories \"depicted people attempting to deal with danger, the supernatural, or some fantasized situation.\" Among its guest stars were Kim Stanley, Lee Marvin,', 'title': 'Escape (1950 TV series)'}, {'hasanswer': False, 'id': '20209950', 'score': '1.600534', 'text': 'maternal custody of Lily. The Escape (2016 film) The Escape is a 2016 American short action film produced by BMW to promote the car manufacturer\\'s 2017 5 Series. It was directed and co-written by Neill Blomkamp, and stars Clive Owen, Jon Bernthal, Dakota Fanning, and Vera Farmiga. The film, which continues the plot of BMW\\'s series of adverts titled \"The Hire\", was posted on BMW USA\\'s YouTube channel on October 23, 2016. The short was filmed over the course of one-and-a-half months during summer of 2016 in Toronto, Ontario. Visual effects were completed in September 2016, ready for release the', 'title': 'The Escape (2016 film)'}, {'hasanswer': False, 'id': '19747412', 'score': '1.5832835', 'text': \"Escape Or Die! Escape Or Die! was a Canadian reality television series produced by Farpoint Films that premiered in Canada in 2015 on OLN. Starring escape artist Dean Gunnarson, the series showed the behind-the-scenes preparations and escapes filmed in various locations around the world. The series featured Cary Tardi, Jeff Gunnarson, Ava Darrach-Gagnon, and John MacDonald as part of Dean's team that helped make the escapes happen and keep him safe. The show also featured appearances by magician and skeptic James Randi and Colombian magician Gustavo Lorgia. The series won a Golden Sheaf Award at the 2016 Yorkton Film Festival\", 'title': 'Escape Or Die!'}, {'hasanswer': False, 'id': '20209947', 'score': '1.5823195', 'text': 'The Escape (2016 film) The Escape is a 2016 American short action film produced by BMW to promote the car manufacturer\\'s 2017 5 Series. It was directed and co-written by Neill Blomkamp, and stars Clive Owen, Jon Bernthal, Dakota Fanning, and Vera Farmiga. The film, which continues the plot of BMW\\'s series of adverts titled \"The Hire\", was posted on BMW USA\\'s YouTube channel on October 23, 2016. The short was filmed over the course of one-and-a-half months during summer of 2016 in Toronto, Ontario. Visual effects were completed in September 2016, ready for release the following month. After the', 'title': 'The Escape (2016 film)'}, {'hasanswer': False, 'id': '3221706', 'score': '1.5800519', 'text': 'Escape from L.A. Escape from L.A. (also known as John Carpenter\\'s Escape from L.A. or Escape from Los Angeles) is a 1996 American post-apocalyptic action film co-written, co-scored, and directed by John Carpenter, co-written and produced by Debra Hill and Kurt Russell, with Russell also starring as Snake Plissken. A sequel to \"Escape from New York\", \"Escape from L.A.\" co-stars Steve Buscemi, Stacy Keach, Bruce Campbell, and Pam Grier. The film received mixed reception and was a box-office bomb. In 1998, Los Angeles has become immensely crime-ridden and decadent, ultimately being directly governed and patrolled by the recently created United', 'title': 'Escape from L.A.'}, {'hasanswer': False, 'id': '13995487', 'score': '1.5759735', 'text': 'project entitled, \"The Back-Up Plan\", directed by Alan Poul and starring Jennifer Lopez, was released through CBS Films in April 2010. The company\\'s production office is located in the Astaire Building on the Sony Pictures Studios lot in Culver City, California. Escape Artists Escape Artists Productions, LLC, commonly known as Escape Artists and distinct from Escape Artists, Inc. (pod caster), is an independently financed motion picture and television production company with a first look non-exclusive deal at Sony Pictures Entertainment, headed by partners Steve Tisch, Todd Black, and Jason Blumenthal. In 2001, Todd Black and Jason Blumenthal’s Black & Blu', 'title': 'Escape Artists'}, {'hasanswer': False, 'id': '2982116', 'score': '1.5689361', 'text': 'supplied by Del Castillo, organist Ivan Ditmars, Cy Feuer, Wilbur Hatch and Leith Stevens. The announcers were Paul Frees and Roy Rowan. A television counterpart aired on CBS TV for a few months during 1950. The program\\'s opening announcement—\"Tired of the everyday grind?\"—was employed as a slogan for the counterculture magazine, \"New Escapologist\". Escape (radio program) Escape was radio\\'s leading anthology series of high-adventure radio dramas, airing on CBS from July 7, 1947 to September 25, 1954. Since the program did not have a regular sponsor like \"Suspense\", it was subjected to frequent schedule shifts and lower production budgets, although', 'title': 'Escape (radio program)'}]\n"
     ]
    }
   ],
   "source": [
    "for row in dataset[\"train\"]:\n",
    "    print(row[\"ctxs\"])\n",
    "    break"
   ]
  },
  {
   "cell_type": "code",
   "execution_count": 129,
   "metadata": {},
   "outputs": [
    {
     "name": "stderr",
     "output_type": "stream",
     "text": [
      "Creating parquet from Arrow format: 100%|██████████| 10/10 [00:01<00:00,  7.10ba/s]\n",
      "Uploading the dataset shards: 100%|██████████| 1/1 [00:08<00:00,  8.61s/it]\n",
      "Creating parquet from Arrow format: 100%|██████████| 5/5 [00:00<00:00,  8.05ba/s]\n",
      "Uploading the dataset shards: 100%|██████████| 1/1 [00:04<00:00,  4.24s/it]\n"
     ]
    },
    {
     "data": {
      "text/plain": [
       "CommitInfo(commit_url='https://huggingface.co/datasets/Atipico1/popQA/commit/3586e3709ae7947c9629784cfc0705786eec7f0b', commit_message='Upload dataset', commit_description='', oid='3586e3709ae7947c9629784cfc0705786eec7f0b', pr_url=None, pr_revision=None, pr_num=None)"
      ]
     },
     "execution_count": 129,
     "metadata": {},
     "output_type": "execute_result"
    }
   ],
   "source": [
    "dataset.push_to_hub(\"Atipico1/popQA\")"
   ]
  },
  {
   "cell_type": "code",
   "execution_count": 18,
   "metadata": {},
   "outputs": [
    {
     "data": {
      "text/plain": [
       "[{'id': 679735,\n",
       "  'text': '\"Kodoku no Akatsuki\" (孤独のあかつき, \"The Solitude of Dawn\") (also known by its French title \"La Solitude de l\\'aube\") is a song by Japanese musician Ringo Sheena. It was released as one of the A-sides of her 14th single, along with the song \"Irohanihoheto\", released on May 27, 2013. The release date was the 15th anniversary of the release of Sheena\\'s debut single \"Kōfukuron\" in 1998.',\n",
       "  'hasanswer': False},\n",
       " {'id': 1944639,\n",
       "  'text': \"Doctor Who at the BBC Radiophonic Workshop Volume 1: The Early Years 1963–1969 was the first in a series of compilations of Doctor Who material recorded by the BBC Radiophonic Workshop. Compiled and remastered by Mark Ayres, the album features mostly sound effects and atmospheres from the first six years of the programme. Although some incidental music tracks do appear, most of the album's content is by original Doctor Who sound effects creator Brian Hodgson. The compilation also features three Radiophonic Workshop realisations of early Doctor Who composer Dudley Simpson's work. The compilation was the first release of Radiophonic Workshop material following the department's closure and was intended by archiver Ayres to be the beginning of a series covering the varied output of the department. The series was to have included material from other children's programmes such as Roger Limb's score from The Box of Delights as well as music from documentaries and radio, although only material related to Doctor Who has so far been released.\",\n",
       "  'hasanswer': False},\n",
       " {'id': 2940748,\n",
       "  'text': 'Solitude Mountain Resort is a ski resort located in the Big Cottonwood Canyon of the Wasatch Mountains, thirty miles southeast of Salt Lake City, Utah. With 66 trails, 1,200 acres (4.9 km2) and 2,047 feet (624 m) vertical, Solitude is one of the smaller ski resorts near Salt Lake City, along with its neighbor Brighton. It is a family-oriented mountain, with a wider range of beginner and intermediate slopes than other nearby ski resorts; 70% of its slopes are graded \"beginner\" or \"intermediate,\" the highest such ratio in the Salt Lake City area. Solitude was one of the first major US resorts to adopt an RFID lift ticket system, allowing lift lines to move more efficiently while reducing \"lift poaching\". It was followed by Alta Ski Area in 2007. Solitude is adjacent to Brighton Ski Resort near the top of Big Cottonwood Canyon. Solitude and Brighton offer a common \"Solbright Pass\" which provides access to both resorts for a nominal surcharge.',\n",
       "  'hasanswer': False},\n",
       " {'id': 664342,\n",
       "  'text': \"One Hundred Years of Solitude (Spanish: Cien años de soledad) is a 1967 novel by Colombian author Gabriel García Márquez that tells the multi-generational story of the Buendía family, whose patriarch, José Arcadio Buendía, founds the town of Macondo, the metaphoric Colombia. The magical realist style and thematic substance of One Hundred Years of Solitude established it as an important, representative novel of the literary Latin American Boom of the 1960s and 1970s, which was stylistically influenced by Modernism (European and North American) and the Cuban Vanguardia (Avant-Garde) literary movement. One Hundred Years of Solitude was first published in Spanish in 1967; it has been translated into thirty-seven languages and has sold more than 30 million copies. The novel remains widely acclaimed, and is considered García Márquez's masterpiece.\",\n",
       "  'hasanswer': False},\n",
       " {'id': 2949253,\n",
       "  'text': \"Space Vets was a 39-episode children's sci fi show about a motley crew of misfit intergalactic space vets. The concept was devised by Stephen Edmondson and Jerome Vincent, but the characters were created by writer Christopher Middleton, and most of the 39 episodes written by him, too. Music for the series was produced by former Doctor Who composer Dominic Glynn.\",\n",
       "  'hasanswer': False}]"
      ]
     },
     "execution_count": 18,
     "metadata": {},
     "output_type": "execute_result"
    }
   ],
   "source": [
    "new_dataset[\"train\"][\"ctxs\"][0]"
   ]
  },
  {
   "cell_type": "code",
   "execution_count": 14,
   "metadata": {},
   "outputs": [],
   "source": [
    "new_dataset = dataset.train_test_split(test_size=4282, seed=42)"
   ]
  },
  {
   "cell_type": "code",
   "execution_count": 16,
   "metadata": {},
   "outputs": [
    {
     "name": "stderr",
     "output_type": "stream",
     "text": [
      "Uploading the dataset shards:   0%|          | 0/1 [00:00<?, ?it/s]"
     ]
    },
    {
     "name": "stderr",
     "output_type": "stream",
     "text": [
      "Creating parquet from Arrow format: 100%|██████████| 10/10 [00:00<00:00, 35.27ba/s]\n",
      "Uploading the dataset shards: 100%|██████████| 1/1 [00:03<00:00,  3.15s/it]\n",
      "Creating parquet from Arrow format: 100%|██████████| 5/5 [00:00<00:00, 42.26ba/s]\n",
      "Uploading the dataset shards: 100%|██████████| 1/1 [00:02<00:00,  2.65s/it]\n"
     ]
    },
    {
     "data": {
      "text/plain": [
       "CommitInfo(commit_url='https://huggingface.co/datasets/Atipico1/PopQA/commit/08f0f594f1aa7342667bc6ed6c90368d048d3e76', commit_message='Upload dataset', commit_description='', oid='08f0f594f1aa7342667bc6ed6c90368d048d3e76', pr_url=None, pr_revision=None, pr_num=None)"
      ]
     },
     "execution_count": 16,
     "metadata": {},
     "output_type": "execute_result"
    }
   ],
   "source": [
    "new_dataset.push_to_hub(\"Atipico1/PopQA\")"
   ]
  },
  {
   "cell_type": "code",
   "execution_count": 19,
   "metadata": {},
   "outputs": [
    {
     "name": "stderr",
     "output_type": "stream",
     "text": [
      "/data/seongilpark/conda_envs/ft/lib/python3.10/site-packages/transformers/utils/hub.py:123: FutureWarning: Using `TRANSFORMERS_CACHE` is deprecated and will be removed in v5 of Transformers. Use `HF_HOME` instead.\n",
      "  warnings.warn(\n"
     ]
    }
   ],
   "source": [
    "from train import formatting_for_original"
   ]
  },
  {
   "cell_type": "code",
   "execution_count": 77,
   "metadata": {},
   "outputs": [
    {
     "name": "stderr",
     "output_type": "stream",
     "text": [
      "/data/seongilpark/conda_envs/ft/lib/python3.10/site-packages/huggingface_hub/repocard.py:105: UserWarning: Repo card metadata block was not found. Setting CardData to empty.\n",
      "  warnings.warn(\"Repo card metadata block was not found. Setting CardData to empty.\")\n"
     ]
    }
   ],
   "source": [
    "akari = load_dataset(\"akariasai/PopQA\")"
   ]
  },
  {
   "cell_type": "code",
   "execution_count": 79,
   "metadata": {},
   "outputs": [],
   "source": [
    "for row in akari[\"test\"]:\n",
    "    if not row[\"possible_answers\"]:\n",
    "        print(row[\"question\"])"
   ]
  },
  {
   "cell_type": "code",
   "execution_count": 80,
   "metadata": {},
   "outputs": [
    {
     "data": {
      "text/plain": [
       "DatasetDict({\n",
       "    test: Dataset({\n",
       "        features: ['id', 'subj', 'prop', 'obj', 'subj_id', 'prop_id', 'obj_id', 's_aliases', 'o_aliases', 's_uri', 'o_uri', 's_wiki_title', 'o_wiki_title', 's_pop', 'o_pop', 'question', 'possible_answers'],\n",
       "        num_rows: 14267\n",
       "    })\n",
       "})"
      ]
     },
     "execution_count": 80,
     "metadata": {},
     "output_type": "execute_result"
    }
   ],
   "source": [
    "akari"
   ]
  },
  {
   "cell_type": "code",
   "execution_count": 56,
   "metadata": {},
   "outputs": [],
   "source": [
    "import pandas as pd\n",
    "\n",
    "df_akari = pd.DataFrame(akari[\"test\"])\n",
    "dataset = load_dataset(\"Atipico1/PopQA\")\n",
    "df_hf_train = pd.DataFrame(dataset[\"train\"])\n",
    "df_hf_test = pd.DataFrame(dataset[\"test\"])\n",
    "new_df_hf_train = pd.merge(df_hf_train, df_akari, on=[\"id\"], how=\"left\")\n",
    "new_df_hf_train.drop(columns=[\"question_y\"], inplace=True)\n",
    "new_df_hf_train.rename(columns={\"question_x\": \"question\", \"possible_answers\":\"answers\"}, inplace=True)\n",
    "new_df_hf_test = pd.merge(df_hf_test, df_akari, on=[\"id\"], how=\"left\")\n",
    "new_df_hf_test.drop(columns=[\"question_y\"], inplace=True)\n",
    "new_df_hf_test.rename(columns={\"question_x\": \"question\", \"possible_answers\":\"answers\"}, inplace=True)"
   ]
  },
  {
   "cell_type": "code",
   "execution_count": 57,
   "metadata": {},
   "outputs": [],
   "source": [
    "from datasets import DatasetDict\n",
    "\n",
    "final = DatasetDict({\"train\": Dataset.from_pandas(new_df_hf_train), \"test\": Dataset.from_pandas(new_df_hf_test)})"
   ]
  },
  {
   "cell_type": "code",
   "execution_count": 59,
   "metadata": {},
   "outputs": [
    {
     "name": "stderr",
     "output_type": "stream",
     "text": [
      "Creating parquet from Arrow format: 100%|██████████| 10/10 [00:00<00:00, 112.77ba/s]\n",
      "Uploading the dataset shards: 100%|██████████| 1/1 [00:03<00:00,  3.17s/it]\n",
      "Creating parquet from Arrow format: 100%|██████████| 5/5 [00:00<00:00, 125.12ba/s]\n",
      "Uploading the dataset shards: 100%|██████████| 1/1 [00:03<00:00,  3.26s/it]\n"
     ]
    },
    {
     "data": {
      "text/plain": [
       "CommitInfo(commit_url='https://huggingface.co/datasets/Atipico1/PopQA/commit/4b229215976ff0e532df636ff94b60119d7cb674', commit_message='Upload dataset', commit_description='', oid='4b229215976ff0e532df636ff94b60119d7cb674', pr_url=None, pr_revision=None, pr_num=None)"
      ]
     },
     "execution_count": 59,
     "metadata": {},
     "output_type": "execute_result"
    }
   ],
   "source": [
    "final.push_to_hub(\"Atipico1/PopQA\")"
   ]
  },
  {
   "cell_type": "code",
   "execution_count": 81,
   "metadata": {},
   "outputs": [
    {
     "data": {
      "text/plain": [
       "DatasetDict({\n",
       "    train: Dataset({\n",
       "        features: ['id', 'question', 'ctxs', 'subj', 'prop', 'obj', 'subj_id', 'prop_id', 'obj_id', 's_aliases', 'o_aliases', 's_uri', 'o_uri', 's_wiki_title', 'o_wiki_title', 's_pop', 'o_pop', 'answers'],\n",
       "        num_rows: 10000\n",
       "    })\n",
       "    test: Dataset({\n",
       "        features: ['id', 'question', 'ctxs', 'subj', 'prop', 'obj', 'subj_id', 'prop_id', 'obj_id', 's_aliases', 'o_aliases', 's_uri', 'o_uri', 's_wiki_title', 'o_wiki_title', 's_pop', 'o_pop', 'answers'],\n",
       "        num_rows: 4282\n",
       "    })\n",
       "})"
      ]
     },
     "execution_count": 81,
     "metadata": {},
     "output_type": "execute_result"
    }
   ],
   "source": [
    "final"
   ]
  },
  {
   "cell_type": "code",
   "execution_count": 24,
   "metadata": {},
   "outputs": [],
   "source": [
    "dataset = load_dataset(\"Atipico1/popQA\")"
   ]
  },
  {
   "cell_type": "code",
   "execution_count": 25,
   "metadata": {},
   "outputs": [
    {
     "name": "stderr",
     "output_type": "stream",
     "text": [
      "Map:   0%|          | 0/4267 [00:00<?, ? examples/s]"
     ]
    },
    {
     "name": "stderr",
     "output_type": "stream",
     "text": [
      "Map: 100%|██████████| 4267/4267 [00:00<00:00, 6164.21 examples/s]\n"
     ]
    }
   ],
   "source": [
    "from ast import literal_eval\n",
    "dataset[\"train\"] = dataset[\"train\"].map(lambda x: {\"answers\": literal_eval(x[\"answers\"])})\n",
    "dataset[\"test\"] = dataset[\"test\"].map(lambda x: {\"answers\": literal_eval(x[\"answers\"])})"
   ]
  },
  {
   "cell_type": "code",
   "execution_count": 31,
   "metadata": {},
   "outputs": [
    {
     "name": "stderr",
     "output_type": "stream",
     "text": [
      "Creating parquet from Arrow format: 100%|██████████| 10/10 [00:00<00:00, 38.38ba/s]\n",
      "Uploading the dataset shards: 100%|██████████| 1/1 [00:05<00:00,  5.71s/it]\n",
      "Creating parquet from Arrow format: 100%|██████████| 5/5 [00:00<00:00, 47.30ba/s]\n",
      "Uploading the dataset shards: 100%|██████████| 1/1 [00:04<00:00,  4.63s/it]\n"
     ]
    },
    {
     "data": {
      "text/plain": [
       "CommitInfo(commit_url='https://huggingface.co/datasets/Atipico1/popQA/commit/39d1f9de940475fbf588c1d1c49f2fbabb49f477', commit_message='Upload dataset', commit_description='', oid='39d1f9de940475fbf588c1d1c49f2fbabb49f477', pr_url=None, pr_revision=None, pr_num=None)"
      ]
     },
     "execution_count": 31,
     "metadata": {},
     "output_type": "execute_result"
    }
   ],
   "source": [
    "dataset.push_to_hub(\"Atipico1/popQA\")"
   ]
  },
  {
   "cell_type": "code",
   "execution_count": 13,
   "metadata": {},
   "outputs": [],
   "source": [
    "from src.utils import normalize_question\n",
    "\n",
    "num_contexts = 5\n",
    "def formatting_for_original(example):\n",
    "    output_texts = []\n",
    "    for i in range(len(example['question'])):\n",
    "        q = normalize_question(example['question'][i])\n",
    "        if num_contexts == 0:\n",
    "            text = f\"### Q: {q}\\n### A: {example['answers'][i][0]}</s>\"\n",
    "        else:\n",
    "            ctxs = \"\\n\".join([f\"Doc {idx}: {ctx['text']}\" for idx, ctx in enumerate(example[\"ctxs\"][i][:num_contexts])])\n",
    "            text = f\"### Background:\\n{ctxs}\\n\\n### Q: {q}\\n### A: {example['answers'][i][0]}</s>\"\n",
    "        output_texts.append(text)\n",
    "    return output_texts\n",
    "output = formatting_for_original(dataset[:])"
   ]
  },
  {
   "cell_type": "code",
   "execution_count": 7,
   "metadata": {},
   "outputs": [
    {
     "name": "stderr",
     "output_type": "stream",
     "text": [
      "/data/seongilpark/conda_envs/ft/lib/python3.10/site-packages/transformers/utils/hub.py:123: FutureWarning: Using `TRANSFORMERS_CACHE` is deprecated and will be removed in v5 of Transformers. Use `HF_HOME` instead.\n",
      "  warnings.warn(\n"
     ]
    }
   ],
   "source": [
    "from transformers import AutoTokenizer\n",
    "tokenizer = AutoTokenizer.from_pretrained(\"meta-llama/Llama-2-7b-hf\")"
   ]
  },
  {
   "cell_type": "code",
   "execution_count": 138,
   "metadata": {},
   "outputs": [],
   "source": [
    "out = tokenizer(output, return_length=True)"
   ]
  },
  {
   "cell_type": "code",
   "execution_count": 139,
   "metadata": {},
   "outputs": [
    {
     "data": {
      "text/plain": [
       "1367"
      ]
     },
     "execution_count": 139,
     "metadata": {},
     "output_type": "execute_result"
    }
   ],
   "source": [
    "max(out['length'])"
   ]
  },
  {
   "cell_type": "code",
   "execution_count": 36,
   "metadata": {},
   "outputs": [
    {
     "data": {
      "text/plain": [
       "1536"
      ]
     },
     "execution_count": 36,
     "metadata": {},
     "output_type": "execute_result"
    }
   ],
   "source": [
    "1024+512"
   ]
  },
  {
   "cell_type": "code",
   "execution_count": null,
   "metadata": {},
   "outputs": [],
   "source": []
  }
 ],
 "metadata": {
  "kernelspec": {
   "display_name": "finetune",
   "language": "python",
   "name": "python3"
  },
  "language_info": {
   "codemirror_mode": {
    "name": "ipython",
    "version": 3
   },
   "file_extension": ".py",
   "mimetype": "text/x-python",
   "name": "python",
   "nbconvert_exporter": "python",
   "pygments_lexer": "ipython3",
   "version": "3.10.13"
  }
 },
 "nbformat": 4,
 "nbformat_minor": 2
}
